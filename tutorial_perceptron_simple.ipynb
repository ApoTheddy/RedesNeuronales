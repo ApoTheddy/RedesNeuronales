{
  "nbformat": 4,
  "nbformat_minor": 0,
  "metadata": {
    "colab": {
      "provenance": [],
      "toc_visible": true,
      "authorship_tag": "ABX9TyM/Lb21GME34WlQmlRx1usk",
      "include_colab_link": true
    },
    "kernelspec": {
      "name": "python3",
      "display_name": "Python 3"
    },
    "language_info": {
      "name": "python"
    }
  },
  "cells": [
    {
      "cell_type": "markdown",
      "metadata": {
        "id": "view-in-github",
        "colab_type": "text"
      },
      "source": [
        "<a href=\"https://colab.research.google.com/github/ApoTheddy/RedesNeuronales/blob/main/tutorial_perceptron_simple.ipynb\" target=\"_parent\"><img src=\"https://colab.research.google.com/assets/colab-badge.svg\" alt=\"Open In Colab\"/></a>"
      ]
    },
    {
      "cell_type": "code",
      "execution_count": 2,
      "metadata": {
        "id": "m9s01QINO7Hg"
      },
      "outputs": [],
      "source": [
        "import numpy as np\n",
        "import matplotlib.pyplot as plt"
      ]
    },
    {
      "cell_type": "markdown",
      "source": [
        "A B And\n",
        "0 0 0\n",
        "0 1 0\n",
        "1 0 0\n",
        "1 1 1\n",
        "\n",
        "A B OR\n",
        "0 0 0\n",
        "0 1 1\n",
        "1 0 1\n",
        "1 1 1"
      ],
      "metadata": {
        "id": "_VXde066PfPl"
      }
    },
    {
      "cell_type": "code",
      "source": [
        "inputs = np.array([[0,0],[0,1],[1,0],[1,1]])\n",
        "# inputs.shape # Imprimir la forma, de cuantas filas y columnas esta compuesta\n",
        "y = np.array([[0],[0],[0],[1]])\n",
        "print(inputs.shape)\n",
        "print(y.shape)"
      ],
      "metadata": {
        "colab": {
          "base_uri": "https://localhost:8080/"
        },
        "id": "Ol0HN_FZPmnu",
        "outputId": "ed32a003-2be1-48d0-e84c-e733390baa04"
      },
      "execution_count": 6,
      "outputs": [
        {
          "output_type": "stream",
          "name": "stdout",
          "text": [
            "(4, 2)\n",
            "(4, 1)\n"
          ]
        }
      ]
    },
    {
      "cell_type": "code",
      "source": [
        "A = np.array([[1,2,3],[4,5,6]])\n",
        "B = np.array([[1,2],[3,4],[5,6]])\n",
        "\n",
        "# Multiplica A x B\n",
        "print(np.dot(A,B).shape) # filas, columnas\n",
        "# print(np.dot(A,B))\n",
        "\n",
        "C = np.array([[1,2,3],[4,5,6],[7,8,9]])\n",
        "# Transponer una matriz\n",
        "# print(np.dot(A,C).T)\n",
        "print(np.dot(B.T,A.T))\n",
        "del A\n",
        "del B"
      ],
      "metadata": {
        "colab": {
          "base_uri": "https://localhost:8080/"
        },
        "id": "fDgZaHeWWPlQ",
        "outputId": "0ce0d0c1-8131-4f47-d444-2d71ecf929f0"
      },
      "execution_count": 12,
      "outputs": [
        {
          "output_type": "stream",
          "name": "stdout",
          "text": [
            "(2, 2)\n",
            "[[22 49]\n",
            " [28 64]]\n"
          ]
        }
      ]
    },
    {
      "cell_type": "code",
      "source": [
        "# print(inputs.shape)\n",
        "# print(y.shape) \n",
        "\n",
        "pesos = np.random.normal(scale=0.5,size=(2,1))\n",
        "# print(pesos)\n",
        "\n",
        "# np.random.normal? # Ver la informacion de alguna funcion"
      ],
      "metadata": {
        "id": "NZqAAWAAXW7F"
      },
      "execution_count": 15,
      "outputs": []
    },
    {
      "cell_type": "code",
      "source": [
        "def sigmoide(x):\n",
        "  return 1 / (1 + np.exp(-x))"
      ],
      "metadata": {
        "id": "OzZaoWuXYWNA"
      },
      "execution_count": 19,
      "outputs": []
    },
    {
      "cell_type": "code",
      "source": [
        "x = np.linspace(-10,10,50)\n",
        "# print(x)\n",
        "plt.plot(x,sigmoide(x))\n",
        "plt.grid(True)\n",
        "plt.show() # Funcion sigmoide"
      ],
      "metadata": {
        "colab": {
          "base_uri": "https://localhost:8080/",
          "height": 430
        },
        "id": "uAV8AHffYfDS",
        "outputId": "34f8ca0e-dc90-4ad6-fc40-43cf88b9c715"
      },
      "execution_count": 20,
      "outputs": [
        {
          "output_type": "display_data",
          "data": {
            "text/plain": [
              "<Figure size 640x480 with 1 Axes>"
            ],
            "image/png": "[encoded data removed]"
          },
          "metadata": {}
        }
      ]
    },
    {
      "cell_type": "code",
      "source": [
        "z = np.dot(inputs,pesos)\n",
        "output = sigmoide(z)\n",
        "print(output) "
      ],
      "metadata": {
        "colab": {
          "base_uri": "https://localhost:8080/"
        },
        "id": "kbqLih9lX7zT",
        "outputId": "5df8770b-3ccf-4576-f436-cac061238d81"
      },
      "execution_count": 21,
      "outputs": [
        {
          "output_type": "stream",
          "name": "stdout",
          "text": [
            "[[0.5       ]\n",
            " [0.60978692]\n",
            " [0.65617817]\n",
            " [0.74889458]]\n"
          ]
        }
      ]
    }
  ]
}